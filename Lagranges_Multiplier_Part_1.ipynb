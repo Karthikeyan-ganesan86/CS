{
  "cells": [
    {
      "cell_type": "markdown",
      "metadata": {
        "id": "view-in-github",
        "colab_type": "text"
      },
      "source": [
        "<a href=\"https://colab.research.google.com/github/Karthikeyan-ganesan86/CS/blob/master/Lagranges_Multiplier_Part_1.ipynb\" target=\"_parent\"><img src=\"https://colab.research.google.com/assets/colab-badge.svg\" alt=\"Open In Colab\"/></a>"
      ]
    },
    {
      "cell_type": "code",
      "execution_count": 11,
      "id": "de9f7b1d",
      "metadata": {
        "id": "de9f7b1d"
      },
      "outputs": [],
      "source": [
        "#**************************************************************************#\n",
        "#Import all libraries for using in the program                             # \n",
        "#**************************************************************************#\n",
        "# DESCRIPTION: IMPLEMENTING GRADIENT DESCENT                               #\n",
        "#--------------------------------------------------------------------------#\n",
        "#           Name       BITS ID                                             #\n",
        "#--------------------------------------------------------------------------#\n",
        "#      Karthikeyan G  ***********                                          #\n",
        "#--------------------------------------------------------------------------#\n",
        "############################################################################\n",
        "import sympy as sp\n",
        "import math # import math module  \n",
        "sp.init_printing()\n",
        "\n",
        "############################################################################\n",
        "# Assigning x,y as symbol                                                  #\n",
        "############################################################################\n",
        "x,y=sp.var('x,y')\n",
        "\n",
        "a=1\n",
        "b=2\n",
        "\n",
        "############################################################################\n",
        "# fn function and constraint gn                                            #\n",
        "############################################################################\n",
        "\n",
        "fn=(((a)*(x**2))+((b)*(y**2)))/(((a**2)*(x**2))+(b**2)*(y**2))**(1/2)\n",
        "gn=x**2+y**2-1\n"
      ]
    },
    {
      "cell_type": "code",
      "execution_count": 12,
      "id": "e488391c",
      "metadata": {
        "id": "e488391c"
      },
      "outputs": [],
      "source": [
        "############################################################################\n",
        "# IMPORT Lamda symbol                                                      #\n",
        "############################################################################\n",
        "lamda = sp.symbols('lambda')\n",
        "\n",
        "############################################################################\n",
        "# create lagrange equation                                                 #\n",
        "############################################################################\n",
        "Lagrange_eq = (fn - (lamda)*(gn))\n",
        "\n",
        "############################################################################\n",
        "# Differentiate lagrange equation                                          #\n",
        "############################################################################\n",
        "Deriv_L=[sp.diff(Lagrange_eq,fac) for fac in [x,y]]\n",
        "\n",
        "tosol = Deriv_L +[gn]"
      ]
    },
    {
      "cell_type": "code",
      "execution_count": 13,
      "id": "a7ba9c19",
      "metadata": {
        "colab": {
          "base_uri": "https://localhost:8080/",
          "height": 59
        },
        "id": "a7ba9c19",
        "outputId": "4462f25c-1578-4dd5-857a-119bc19e0b7f"
      },
      "outputs": [
        {
          "output_type": "execute_result",
          "data": {
            "text/plain": [
              "[{λ: 0.471404520791032, x: -0.816496580927726, y: -0.577350269189626}, {λ: 0.4\n",
              "71404520791032, x: -0.816496580927726, y: 0.577350269189626}, {λ: 0.5, x: -1.0\n",
              ", y: 0.0}, {λ: 0.5, x: 0.0, y: -1.0}, {λ: 0.5, x: 0.0, y: -1.0}, {λ: 0.5, x: 0\n",
              ".0, y: 1.0}, {λ: 0.5, x: 0.0, y: 1.0}]"
            ],
            "image/png": "[encoded data removed]",
            "text/latex": "$\\displaystyle \\left[ \\left\\{ \\lambda : 0.471404520791032, \\  x : -0.816496580927726, \\  y : -0.577350269189626\\right\\}, \\  \\left\\{ \\lambda : 0.471404520791032, \\  x : -0.816496580927726, \\  y : 0.577350269189626\\right\\}, \\  \\left\\{ \\lambda : 0.5, \\  x : -1.0, \\  y : 0.0\\right\\}, \\  \\left\\{ \\lambda : 0.5, \\  x : 0.0, \\  y : -1.0\\right\\}, \\  \\left\\{ \\lambda : 0.5, \\  x : 0.0, \\  y : -1.0\\right\\}, \\  \\left\\{ \\lambda : 0.5, \\  x : 0.0, \\  y : 1.0\\right\\}, \\  \\left\\{ \\lambda : 0.5, \\  x : 0.0, \\  y : 1.0\\right\\}\\right]$"
          },
          "metadata": {},
          "execution_count": 13
        }
      ],
      "source": [
        "############################################################################\n",
        "# Variable values for λ x and y                                            #\n",
        "############################################################################\n",
        "var_values = sp.solve(tosol,[x,y,lamda],dict=True)\n",
        "var_values"
      ]
    },
    {
      "cell_type": "code",
      "execution_count": 14,
      "id": "87626613",
      "metadata": {
        "colab": {
          "base_uri": "https://localhost:8080/",
          "height": 37
        },
        "id": "87626613",
        "outputId": "8a81d7e8-7c84-410d-82fc-ad8b713cfc8f"
      },
      "outputs": [
        {
          "output_type": "execute_result",
          "data": {
            "text/plain": [
              "[0.942809041582063, 0.942809041582063, 1.0, 1.0, 1.0, 1.0, 1.0]"
            ],
            "image/png": "[encoded data removed]",
            "text/latex": "$\\displaystyle \\left[ 0.942809041582063, \\  0.942809041582063, \\  1.0, \\  1.0, \\  1.0, \\  1.0, \\  1.0\\right]$"
          },
          "metadata": {},
          "execution_count": 14
        }
      ],
      "source": [
        "############################################################################\n",
        "# Minimum Values                                                           #\n",
        "############################################################################\n",
        "[fn.subs(p) for p in var_values]"
      ]
    },
    {
      "cell_type": "code",
      "execution_count": 14,
      "id": "29683040",
      "metadata": {
        "id": "29683040"
      },
      "outputs": [],
      "source": []
    }
  ],
  "metadata": {
    "kernelspec": {
      "display_name": "Python 3 (ipykernel)",
      "language": "python",
      "name": "python3"
    },
    "language_info": {
      "codemirror_mode": {
        "name": "ipython",
        "version": 3
      },
      "file_extension": ".py",
      "mimetype": "text/x-python",
      "name": "python",
      "nbconvert_exporter": "python",
      "pygments_lexer": "ipython3",
      "version": "3.9.12"
    },
    "colab": {
      "provenance": [],
      "collapsed_sections": [],
      "include_colab_link": true
    }
  },
  "nbformat": 4,
  "nbformat_minor": 5
}