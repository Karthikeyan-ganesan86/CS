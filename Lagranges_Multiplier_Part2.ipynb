{
  "cells": [
    {
      "cell_type": "markdown",
      "metadata": {
        "id": "view-in-github",
        "colab_type": "text"
      },
      "source": [
        "<a href=\"https://colab.research.google.com/github/Karthikeyan-ganesan86/CS/blob/master/Lagranges_Multiplier_Part2.ipynb\" target=\"_parent\"><img src=\"https://colab.research.google.com/assets/colab-badge.svg\" alt=\"Open In Colab\"/></a>"
      ]
    },
    {
      "cell_type": "code",
      "execution_count": 7,
      "id": "de9f7b1d",
      "metadata": {
        "id": "de9f7b1d"
      },
      "outputs": [],
      "source": [
        "#**************************************************************************#\n",
        "#Import all libraries for using in the program                             # \n",
        "#**************************************************************************#\n",
        "# DESCRIPTION: IMPLEMENTING GRADIENT DESCENT                               #\n",
        "#--------------------------------------------------------------------------#\n",
        "#           Name       BITS ID                                             #\n",
        "#--------------------------------------------------------------------------#\n",
        "#      Karthikeyan G  ***********                                          #\n",
        "#--------------------------------------------------------------------------#\n",
        "############################################################################\n",
        "import sympy as sp\n",
        "import math # import math module  \n",
        "sp.init_printing()\n",
        "############################################################################\n",
        "# Assigning x,y,z as symbol                                                #\n",
        "############################################################################\n",
        "x,y,z=sp.var('x,y,z')\n",
        "\n",
        "############################################################################\n",
        "# Assigning values for k,a,b,c                                             #\n",
        "############################################################################\n",
        "\n",
        "k=1\n",
        "a=1\n",
        "b=1\n",
        "c=1\n",
        "\n",
        "fn=((x+a)*(y+b)*(z+c))\n",
        "gn=(x*y*z)-(k**3)\n",
        "\n"
      ]
    },
    {
      "cell_type": "code",
      "execution_count": 8,
      "id": "e488391c",
      "metadata": {
        "id": "e488391c"
      },
      "outputs": [],
      "source": [
        "############################################################################\n",
        "# IMPORT Lamda symbol                                                      #\n",
        "############################################################################\n",
        "lamda = sp.symbols('lambda')\n",
        "\n",
        "############################################################################\n",
        "# create  equation for Lagrange multiplier                                 #\n",
        "############################################################################\n",
        "\n",
        "Lagrange_eq = (fn - (lamda)*(gn))\n",
        "\n",
        "############################################################################\n",
        "# Differentiate equation                                                   #\n",
        "############################################################################\n",
        "Deriv_L=[sp.diff(Lagrange_eq,fac) for fac in [x,y,z]]\n",
        "\n",
        "\n",
        "tosol = Deriv_L +[gn]\n"
      ]
    },
    {
      "cell_type": "code",
      "execution_count": 9,
      "id": "a7ba9c19",
      "metadata": {
        "colab": {
          "base_uri": "https://localhost:8080/",
          "height": 88
        },
        "id": "a7ba9c19",
        "outputId": "981d3e80-2691-49db-eb7c-bee73b70eeaa"
      },
      "outputs": [
        {
          "output_type": "execute_result",
          "data": {
            "text/plain": [
              "⎡                                                                             \n",
              "⎢{λ: 0, x: -1, y: -1, z: 1}, {λ: 0, x: -1, y: 1, z: -1}, {λ: 0, x: 1, y: -1, z\n",
              "⎣                                                                             \n",
              "\n",
              "                                 ⎧     1   √3⋅ⅈ       1   √3⋅ⅈ       1   √3⋅ⅈ \n",
              ": -1}, {λ: 4, x: 1, y: 1, z: 1}, ⎨λ: - ─ - ────, x: - ─ + ────, y: - ─ + ────,\n",
              "                                 ⎩     2    2         2    2         2    2   \n",
              "\n",
              "      1   √3⋅ⅈ⎫  ⎧     1   √3⋅ⅈ       1   √3⋅ⅈ       1   √3⋅ⅈ       1   √3⋅ⅈ⎫⎤\n",
              " z: - ─ + ────⎬, ⎨λ: - ─ + ────, x: - ─ - ────, y: - ─ - ────, z: - ─ - ────⎬⎥\n",
              "      2    2  ⎭  ⎩     2    2         2    2         2    2         2    2  ⎭⎦"
            ],
            "image/png": "[encoded data removed]",
            "text/latex": "$\\displaystyle \\left[ \\left\\{ \\lambda : 0, \\  x : -1, \\  y : -1, \\  z : 1\\right\\}, \\  \\left\\{ \\lambda : 0, \\  x : -1, \\  y : 1, \\  z : -1\\right\\}, \\  \\left\\{ \\lambda : 0, \\  x : 1, \\  y : -1, \\  z : -1\\right\\}, \\  \\left\\{ \\lambda : 4, \\  x : 1, \\  y : 1, \\  z : 1\\right\\}, \\  \\left\\{ \\lambda : - \\frac{1}{2} - \\frac{\\sqrt{3} i}{2}, \\  x : - \\frac{1}{2} + \\frac{\\sqrt{3} i}{2}, \\  y : - \\frac{1}{2} + \\frac{\\sqrt{3} i}{2}, \\  z : - \\frac{1}{2} + \\frac{\\sqrt{3} i}{2}\\right\\}, \\  \\left\\{ \\lambda : - \\frac{1}{2} + \\frac{\\sqrt{3} i}{2}, \\  x : - \\frac{1}{2} - \\frac{\\sqrt{3} i}{2}, \\  y : - \\frac{1}{2} - \\frac{\\sqrt{3} i}{2}, \\  z : - \\frac{1}{2} - \\frac{\\sqrt{3} i}{2}\\right\\}\\right]$"
          },
          "metadata": {},
          "execution_count": 9
        }
      ],
      "source": [
        "############################################################################\n",
        "# Variable values for λ x and y                                            #\n",
        "############################################################################\n",
        "var_values = sp.solve(tosol,[x,y,z,lamda],dict=True)\n",
        "var_values"
      ]
    },
    {
      "cell_type": "code",
      "execution_count": 10,
      "id": "87626613",
      "metadata": {
        "colab": {
          "base_uri": "https://localhost:8080/",
          "height": 78
        },
        "id": "87626613",
        "outputId": "35a3d8c4-fc8f-4a7d-c1de-c4c3b3341109"
      },
      "outputs": [
        {
          "output_type": "execute_result",
          "data": {
            "text/plain": [
              "⎡                      3            3⎤\n",
              "⎢            ⎛1   √3⋅ⅈ⎞   ⎛1   √3⋅ⅈ⎞ ⎥\n",
              "⎢0, 0, 0, 8, ⎜─ + ────⎟ , ⎜─ - ────⎟ ⎥\n",
              "⎣            ⎝2    2  ⎠   ⎝2    2  ⎠ ⎦"
            ],
            "image/png": "[encoded data removed]",
            "text/latex": "$\\displaystyle \\left[ 0, \\  0, \\  0, \\  8, \\  \\left(\\frac{1}{2} + \\frac{\\sqrt{3} i}{2}\\right)^{3}, \\  \\left(\\frac{1}{2} - \\frac{\\sqrt{3} i}{2}\\right)^{3}\\right]$"
          },
          "metadata": {},
          "execution_count": 10
        }
      ],
      "source": [
        "############################################################################\n",
        "# Minimum Values                                                           #\n",
        "############################################################################\n",
        "[fn.subs(p) for p in var_values]"
      ]
    },
    {
      "cell_type": "code",
      "execution_count": 10,
      "id": "29683040",
      "metadata": {
        "id": "29683040"
      },
      "outputs": [],
      "source": []
    }
  ],
  "metadata": {
    "kernelspec": {
      "display_name": "Python 3 (ipykernel)",
      "language": "python",
      "name": "python3"
    },
    "language_info": {
      "codemirror_mode": {
        "name": "ipython",
        "version": 3
      },
      "file_extension": ".py",
      "mimetype": "text/x-python",
      "name": "python",
      "nbconvert_exporter": "python",
      "pygments_lexer": "ipython3",
      "version": "3.9.12"
    },
    "colab": {
      "provenance": [],
      "collapsed_sections": [],
      "include_colab_link": true
    }
  },
  "nbformat": 4,
  "nbformat_minor": 5
}