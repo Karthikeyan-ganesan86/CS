{
  "nbformat": 4,
  "nbformat_minor": 0,
  "metadata": {
    "colab": {
      "provenance": [],
      "authorship_tag": "ABX9TyO2/90MKGP4CCwAGUax0nnx",
      "include_colab_link": true
    },
    "kernelspec": {
      "name": "python3",
      "display_name": "Python 3"
    },
    "language_info": {
      "name": "python"
    }
  },
  "cells": [
    {
      "cell_type": "markdown",
      "metadata": {
        "id": "view-in-github",
        "colab_type": "text"
      },
      "source": [
        "<a href=\"https://colab.research.google.com/github/Karthikeyan-ganesan86/CS/blob/master/Maths_Assignment1.ipynb\" target=\"_parent\"><img src=\"https://colab.research.google.com/assets/colab-badge.svg\" alt=\"Open In Colab\"/></a>"
      ]
    },
    {
      "cell_type": "code",
      "execution_count": 3,
      "metadata": {
        "colab": {
          "base_uri": "https://localhost:8080/"
        },
        "id": "OUBcG6zopUdX",
        "outputId": "d3ae4eea-b978-4801-d060-9cb98dee7872"
      },
      "outputs": [
        {
          "output_type": "stream",
          "name": "stdout",
          "text": [
            "######################################################################################\n",
            "#                                     RESULTS                                        #\n",
            "The derivative at x = 1.2 using CENTRAL method is approximately: 3.342250000000001\n",
            "The derivative at x = 1.2 using BACKWARD method is approximately: 3.0090000000000003\n",
            "The derivative at x = 1.2 using FORWARD method is approximately: 3.6755000000000013\n",
            "######################################################################################\n"
          ]
        }
      ],
      "source": [
        "################################################################################\n",
        "# NAME           : KARTHIKEYAN.G\n",
        "# REGISTER NUMBER: 43572014\n",
        "################################################################################\n",
        "\n",
        "################################################################################\n",
        "# ALGO:\n",
        "#       1. FIND THE h which is x[i+1] - x[i]\n",
        "#       2. for central formula is (y[i+1] - y[i-1]/ 2*h)\n",
        "#       3. for backward formula is (y[i] - y[i - 1]) / (h)\n",
        "#       4. for forward formula is (y[i + 1] - y[i]) / (h)\n",
        "################################################################################\n",
        "# Given data points in the form of lists\n",
        "x_values = [1.0, 1.2, 1.4, 1.6, 1.8, 2]\n",
        "y_values = [2.7183, 3.3201, 4.0552, 4.953, 6.0492, 7.3891]\n",
        "# Function to calculate the derivative using finite differences\n",
        "def calculate_derivative(x, y,method):\n",
        "    n = len(x)\n",
        "    # Finding index i corresponding to x = 1.2\n",
        "    i = x.index(1.2)\n",
        "\n",
        "    # Checking if the point is within the range of the table\n",
        "    if i == 0 or i == n - 1:\n",
        "        return \"Cannot estimate derivative at the edges of the table\"\n",
        "\n",
        "    #Based on method applied results are derived, it can be Central, Backward or forward\n",
        "    if method == \"central\":\n",
        "      h = x[i + 1] - x[i]\n",
        "      dy_dx = (y[i + 1] - y[i - 1]) / (2 * h)\n",
        "    elif method == \"backward\":\n",
        "      h = x[i + 1] - x[i]\n",
        "      dy_dx = (y[i] - y[i - 1]) / (h)\n",
        "    elif method == \"forward\":\n",
        "      h = x[i + 1] - x[i]\n",
        "      dy_dx = (y[i + 1] - y[i]) / (h)\n",
        "\n",
        "    return dy_dx\n",
        "\n",
        "print('######################################################################################')\n",
        "print('#                                     RESULTS                                        #')\n",
        "# Calculating the derivative at x = 1.2 using Central Method\n",
        "derivative_at_1_2 = calculate_derivative(x_values, y_values,\"central\")\n",
        "print(f\"The derivative at x = 1.2 using CENTRAL method is approximately: {derivative_at_1_2}\")\n",
        "\n",
        "# Calculating the derivative at x = 1.2 using Backward Method\n",
        "derivative_at_1_2 = calculate_derivative(x_values, y_values,\"backward\")\n",
        "print(f\"The derivative at x = 1.2 using BACKWARD method is approximately: {derivative_at_1_2}\")\n",
        "\n",
        "# Calculating the derivative at x = 1.2 using Forward Method\n",
        "derivative_at_1_2 = calculate_derivative(x_values, y_values,\"forward\")\n",
        "print(f\"The derivative at x = 1.2 using FORWARD method is approximately: {derivative_at_1_2}\")\n",
        "print('######################################################################################')"
      ]
    }
  ]
}